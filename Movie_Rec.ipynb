{
 "cells": [
  {
   "cell_type": "markdown",
   "metadata": {},
   "source": [
    "# Movie Recommender"
   ]
  },
  {
   "cell_type": "markdown",
   "metadata": {},
   "source": [
    "The recommendation function takes a userid and returns the top 5 movie recommendations. This function can be found under the recommendation engine section."
   ]
  },
  {
   "cell_type": "markdown",
   "metadata": {},
   "source": [
    "## Methodology and Assumptions\n",
    "Our recommendation engine recommends the top 5 rated movies that the user most similar to the target user reviewed.  \n",
    "Similarity is determined from the number of same movies each user liked.  \n",
    "A user liked a movie if they rated a movie greater than the average rating for that movie."
   ]
  },
  {
   "cell_type": "markdown",
   "metadata": {},
   "source": [
    "## Import Statements and SparkContext"
   ]
  },
  {
   "cell_type": "code",
   "execution_count": 1,
   "metadata": {},
   "outputs": [],
   "source": [
    "# for removing headers\n",
    "from itertools import islice\n",
    "# set up sparkcontext\n",
    "from pyspark import SparkConf, SparkContext\n",
    "sc = SparkContext() "
   ]
  },
  {
   "cell_type": "markdown",
   "metadata": {},
   "source": [
    "## Import and Clean Data"
   ]
  },
  {
   "cell_type": "code",
   "execution_count": 2,
   "metadata": {},
   "outputs": [],
   "source": [
    "def replace_commas_in_quotes_in_csv(line):\n",
    "    if \"\\\"\" in line:\n",
    "        l = line.split(\"\\\"\")\n",
    "        if \",\" in l[1]:\n",
    "            l[1] = l[1].replace(\",\",\"^\")\n",
    "        line = \"\".join(l)\n",
    "    return line\n",
    "\n",
    "# Example\n",
    "# replace_commas_in_quotes_in_csv('11,\"American President, The (1995)\",Comedy|Drama|Romance')\n",
    "# replace_commas_in_quotes_in_csv('11,American President, The (1995),Comedy|Drama|Romance')\n",
    "\n",
    "# outputs\n",
    "# 11,American President^ The (1995),Comedy|Drama|Romance\n",
    "# 11,American President, The (1995),Comedy|Drama|Romance"
   ]
  },
  {
   "cell_type": "code",
   "execution_count": 3,
   "metadata": {},
   "outputs": [
    {
     "data": {
      "text/plain": [
       "[(1, 'Toy Story (1995)', 'Adventure|Animation|Children|Comedy|Fantasy'),\n",
       " (2, 'Jumanji (1995)', 'Adventure|Children|Fantasy'),\n",
       " (3, 'Grumpier Old Men (1995)', 'Comedy|Romance'),\n",
       " (4, 'Waiting to Exhale (1995)', 'Comedy|Drama|Romance'),\n",
       " (5, 'Father of the Bride Part II (1995)', 'Comedy')]"
      ]
     },
     "execution_count": 3,
     "metadata": {},
     "output_type": "execute_result"
    }
   ],
   "source": [
    "#create movies RDD\n",
    "moviesRDD = sc.textFile(\"Data/movies.csv\")\n",
    "moviesRDD = moviesRDD.map(replace_commas_in_quotes_in_csv)\n",
    "moviesRDD = moviesRDD.map(lambda x: tuple(x.split(',')))\n",
    "moviesRDD = moviesRDD.mapPartitionsWithIndex(lambda idx, it: islice(it, 1, None) if idx == 0 else it)\n",
    "#convert datatypes\n",
    "moviesRDD = moviesRDD.map(lambda x: (int(x[0]), x[1], x[2]))\n",
    "moviesRDD.take(5)"
   ]
  },
  {
   "cell_type": "code",
   "execution_count": 4,
   "metadata": {},
   "outputs": [
    {
     "data": {
      "text/plain": [
       "[(1, 31, 2.5, 1260759144),\n",
       " (1, 1029, 3.0, 1260759179),\n",
       " (1, 1061, 3.0, 1260759182),\n",
       " (1, 1129, 2.0, 1260759185),\n",
       " (1, 1172, 4.0, 1260759205)]"
      ]
     },
     "execution_count": 4,
     "metadata": {},
     "output_type": "execute_result"
    }
   ],
   "source": [
    "# create ratings RDDs\n",
    "ratingsRDD = sc.textFile(\"Data/ratings.csv\")\n",
    "ratingsRDD = ratingsRDD.map(lambda x: tuple(x.split(',')))\n",
    "ratingsRDD = ratingsRDD.mapPartitionsWithIndex(lambda idx, it: islice(it, 1, None) if idx == 0 else it)\n",
    "# convert datatypes in RDD\n",
    "ratingsRDD = ratingsRDD.map(lambda x: (int(x[0]), int(x[1]), float(x[2]), int(x[3])))\n",
    "ratingsRDD.take(5)"
   ]
  },
  {
   "cell_type": "markdown",
   "metadata": {},
   "source": [
    "### Add Average Movie Rating To ratingsRDD"
   ]
  },
  {
   "cell_type": "code",
   "execution_count": 5,
   "metadata": {},
   "outputs": [],
   "source": [
    "# create key-value pairs of movieid and user rating\n",
    "averagemovierating = ratingsRDD.map(lambda x: (x[1], x[2]))"
   ]
  },
  {
   "cell_type": "code",
   "execution_count": 6,
   "metadata": {},
   "outputs": [],
   "source": [
    "# create a tuple of (movieid, (sumofratings, numberof ratings))\n",
    "averagemovierating = averagemovierating.mapValues(lambda x: (x,1)).reduceByKey(lambda x, y: (x[0] + y[0], x[1] + y[1]))"
   ]
  },
  {
   "cell_type": "code",
   "execution_count": 7,
   "metadata": {},
   "outputs": [],
   "source": [
    "# reduced the previous data frame to (movieid, averagemovierating)\n",
    "averagemovierating = averagemovierating.map(lambda x: (x[0], x[1][0]/x[1][1]))"
   ]
  },
  {
   "cell_type": "code",
   "execution_count": 8,
   "metadata": {},
   "outputs": [],
   "source": [
    "#converted to kev-value pairs\n",
    "ratingsbymovieid = ratingsRDD.map(lambda x: (x[1], x))"
   ]
  },
  {
   "cell_type": "code",
   "execution_count": 9,
   "metadata": {},
   "outputs": [],
   "source": [
    "# joined with the average movie rating on the movie id key\n",
    "ratingsbymovieid = ratingsbymovieid.join(averagemovierating)"
   ]
  },
  {
   "cell_type": "code",
   "execution_count": 10,
   "metadata": {},
   "outputs": [
    {
     "data": {
      "text/plain": [
       "[(1172, (1, 1172, 4.0, 1260759205, 4.260869565217392)),\n",
       " (1172, (23, 1172, 5.0, 1148670101, 4.260869565217392)),\n",
       " (1172, (38, 1172, 4.5, 1389867840, 4.260869565217392)),\n",
       " (1172, (56, 1172, 2.0, 1470350810, 4.260869565217392)),\n",
       " (1172, (94, 1172, 3.5, 1291781459, 4.260869565217392))]"
      ]
     },
     "execution_count": 10,
     "metadata": {},
     "output_type": "execute_result"
    }
   ],
   "source": [
    "# fixed join formatting issues\n",
    "ratingsbymovieid = ratingsbymovieid.map(lambda x: (x[0], (x[1][0][0], x[1][0][1], x[1][0][2], x[1][0][3], x[1][1])))\n",
    "ratingsbymovieid.take(5)"
   ]
  },
  {
   "cell_type": "markdown",
   "metadata": {},
   "source": [
    "### Add UserLikedMovie Boolean to ratingsRDD"
   ]
  },
  {
   "cell_type": "code",
   "execution_count": 11,
   "metadata": {},
   "outputs": [],
   "source": [
    "# added in \"liked\" data - if user rating > than average movie ratin, the value is true\n",
    "ratingsbymovieid = ratingsbymovieid.map(lambda x: (x[0], (x[1][0], x[1][1], x[1][2], x[1][3], x[1][4], x[1][2]>x[1][4])))"
   ]
  },
  {
   "cell_type": "code",
   "execution_count": 12,
   "metadata": {},
   "outputs": [
    {
     "data": {
      "text/plain": [
       "[(1172, (1, 1172, 4.0, 1260759205, 4.260869565217392, False)),\n",
       " (1172, (23, 1172, 5.0, 1148670101, 4.260869565217392, True)),\n",
       " (1172, (38, 1172, 4.5, 1389867840, 4.260869565217392, True)),\n",
       " (1172, (56, 1172, 2.0, 1470350810, 4.260869565217392, False)),\n",
       " (1172, (94, 1172, 3.5, 1291781459, 4.260869565217392, False))]"
      ]
     },
     "execution_count": 12,
     "metadata": {},
     "output_type": "execute_result"
    }
   ],
   "source": [
    "# update ratingsRDD to reflect new data\n",
    "ratingsRDD = ratingsbymovieid.map(lambda x: (x[1][0], x[1][1], x[1][2], x[1][3], x[1][4], x[1][5]))\n",
    "ratingsbymovieid.take(5)"
   ]
  },
  {
   "cell_type": "markdown",
   "metadata": {},
   "source": [
    "### Find Users that liked each movie by movieid"
   ]
  },
  {
   "cell_type": "code",
   "execution_count": 13,
   "metadata": {},
   "outputs": [],
   "source": [
    "likedmovies = ratingsRDD.filter(lambda x: x[5])"
   ]
  },
  {
   "cell_type": "code",
   "execution_count": 14,
   "metadata": {},
   "outputs": [],
   "source": [
    "userslikedmovies = likedmovies.map(lambda x: (x[1], x[0]))"
   ]
  },
  {
   "cell_type": "code",
   "execution_count": 15,
   "metadata": {},
   "outputs": [],
   "source": [
    "moviesusersliked = userslikedmovies.groupByKey().map(lambda x: (x[0], tuple(x[1])))"
   ]
  },
  {
   "cell_type": "code",
   "execution_count": 16,
   "metadata": {},
   "outputs": [
    {
     "data": {
      "text/plain": [
       "[(1172,\n",
       "  (23,\n",
       "   38,\n",
       "   133,\n",
       "   148,\n",
       "   229,\n",
       "   280,\n",
       "   320,\n",
       "   321,\n",
       "   330,\n",
       "   358,\n",
       "   373,\n",
       "   387,\n",
       "   391,\n",
       "   430,\n",
       "   441,\n",
       "   481,\n",
       "   497,\n",
       "   510,\n",
       "   521,\n",
       "   537,\n",
       "   539,\n",
       "   545,\n",
       "   547,\n",
       "   585,\n",
       "   587))]"
      ]
     },
     "execution_count": 16,
     "metadata": {},
     "output_type": "execute_result"
    }
   ],
   "source": [
    "moviesusersliked.take(1)"
   ]
  },
  {
   "cell_type": "markdown",
   "metadata": {},
   "source": [
    "### Find all targetuser-user pairs that like each movie"
   ]
  },
  {
   "cell_type": "code",
   "execution_count": 17,
   "metadata": {},
   "outputs": [],
   "source": [
    "def similar_users(themoviesusersliked):\n",
    "    l = []\n",
    "    for i in range(len(themoviesusersliked[1])):\n",
    "        for j in range(len(themoviesusersliked[1])):\n",
    "            if j>i:\n",
    "                l.append((themoviesusersliked[1][i], themoviesusersliked[1][j]))\n",
    "    return tuple(l)"
   ]
  },
  {
   "cell_type": "code",
   "execution_count": 18,
   "metadata": {},
   "outputs": [],
   "source": [
    "#combinations of users that liked the same movie\n",
    "useraffinity = moviesusersliked.map(similar_users)"
   ]
  },
  {
   "cell_type": "code",
   "execution_count": 19,
   "metadata": {},
   "outputs": [
    {
     "data": {
      "text/plain": [
       "[((23, 38),\n",
       "  (23, 133),\n",
       "  (23, 148),\n",
       "  (23, 229),\n",
       "  (23, 280),\n",
       "  (23, 320),\n",
       "  (23, 321),\n",
       "  (23, 330),\n",
       "  (23, 358),\n",
       "  (23, 373),\n",
       "  (23, 387),\n",
       "  (23, 391),\n",
       "  (23, 430),\n",
       "  (23, 441),\n",
       "  (23, 481),\n",
       "  (23, 497),\n",
       "  (23, 510),\n",
       "  (23, 521),\n",
       "  (23, 537),\n",
       "  (23, 539),\n",
       "  (23, 545),\n",
       "  (23, 547),\n",
       "  (23, 585),\n",
       "  (23, 587),\n",
       "  (38, 133),\n",
       "  (38, 148),\n",
       "  (38, 229),\n",
       "  (38, 280),\n",
       "  (38, 320),\n",
       "  (38, 321),\n",
       "  (38, 330),\n",
       "  (38, 358),\n",
       "  (38, 373),\n",
       "  (38, 387),\n",
       "  (38, 391),\n",
       "  (38, 430),\n",
       "  (38, 441),\n",
       "  (38, 481),\n",
       "  (38, 497),\n",
       "  (38, 510),\n",
       "  (38, 521),\n",
       "  (38, 537),\n",
       "  (38, 539),\n",
       "  (38, 545),\n",
       "  (38, 547),\n",
       "  (38, 585),\n",
       "  (38, 587),\n",
       "  (133, 148),\n",
       "  (133, 229),\n",
       "  (133, 280),\n",
       "  (133, 320),\n",
       "  (133, 321),\n",
       "  (133, 330),\n",
       "  (133, 358),\n",
       "  (133, 373),\n",
       "  (133, 387),\n",
       "  (133, 391),\n",
       "  (133, 430),\n",
       "  (133, 441),\n",
       "  (133, 481),\n",
       "  (133, 497),\n",
       "  (133, 510),\n",
       "  (133, 521),\n",
       "  (133, 537),\n",
       "  (133, 539),\n",
       "  (133, 545),\n",
       "  (133, 547),\n",
       "  (133, 585),\n",
       "  (133, 587),\n",
       "  (148, 229),\n",
       "  (148, 280),\n",
       "  (148, 320),\n",
       "  (148, 321),\n",
       "  (148, 330),\n",
       "  (148, 358),\n",
       "  (148, 373),\n",
       "  (148, 387),\n",
       "  (148, 391),\n",
       "  (148, 430),\n",
       "  (148, 441),\n",
       "  (148, 481),\n",
       "  (148, 497),\n",
       "  (148, 510),\n",
       "  (148, 521),\n",
       "  (148, 537),\n",
       "  (148, 539),\n",
       "  (148, 545),\n",
       "  (148, 547),\n",
       "  (148, 585),\n",
       "  (148, 587),\n",
       "  (229, 280),\n",
       "  (229, 320),\n",
       "  (229, 321),\n",
       "  (229, 330),\n",
       "  (229, 358),\n",
       "  (229, 373),\n",
       "  (229, 387),\n",
       "  (229, 391),\n",
       "  (229, 430),\n",
       "  (229, 441),\n",
       "  (229, 481),\n",
       "  (229, 497),\n",
       "  (229, 510),\n",
       "  (229, 521),\n",
       "  (229, 537),\n",
       "  (229, 539),\n",
       "  (229, 545),\n",
       "  (229, 547),\n",
       "  (229, 585),\n",
       "  (229, 587),\n",
       "  (280, 320),\n",
       "  (280, 321),\n",
       "  (280, 330),\n",
       "  (280, 358),\n",
       "  (280, 373),\n",
       "  (280, 387),\n",
       "  (280, 391),\n",
       "  (280, 430),\n",
       "  (280, 441),\n",
       "  (280, 481),\n",
       "  (280, 497),\n",
       "  (280, 510),\n",
       "  (280, 521),\n",
       "  (280, 537),\n",
       "  (280, 539),\n",
       "  (280, 545),\n",
       "  (280, 547),\n",
       "  (280, 585),\n",
       "  (280, 587),\n",
       "  (320, 321),\n",
       "  (320, 330),\n",
       "  (320, 358),\n",
       "  (320, 373),\n",
       "  (320, 387),\n",
       "  (320, 391),\n",
       "  (320, 430),\n",
       "  (320, 441),\n",
       "  (320, 481),\n",
       "  (320, 497),\n",
       "  (320, 510),\n",
       "  (320, 521),\n",
       "  (320, 537),\n",
       "  (320, 539),\n",
       "  (320, 545),\n",
       "  (320, 547),\n",
       "  (320, 585),\n",
       "  (320, 587),\n",
       "  (321, 330),\n",
       "  (321, 358),\n",
       "  (321, 373),\n",
       "  (321, 387),\n",
       "  (321, 391),\n",
       "  (321, 430),\n",
       "  (321, 441),\n",
       "  (321, 481),\n",
       "  (321, 497),\n",
       "  (321, 510),\n",
       "  (321, 521),\n",
       "  (321, 537),\n",
       "  (321, 539),\n",
       "  (321, 545),\n",
       "  (321, 547),\n",
       "  (321, 585),\n",
       "  (321, 587),\n",
       "  (330, 358),\n",
       "  (330, 373),\n",
       "  (330, 387),\n",
       "  (330, 391),\n",
       "  (330, 430),\n",
       "  (330, 441),\n",
       "  (330, 481),\n",
       "  (330, 497),\n",
       "  (330, 510),\n",
       "  (330, 521),\n",
       "  (330, 537),\n",
       "  (330, 539),\n",
       "  (330, 545),\n",
       "  (330, 547),\n",
       "  (330, 585),\n",
       "  (330, 587),\n",
       "  (358, 373),\n",
       "  (358, 387),\n",
       "  (358, 391),\n",
       "  (358, 430),\n",
       "  (358, 441),\n",
       "  (358, 481),\n",
       "  (358, 497),\n",
       "  (358, 510),\n",
       "  (358, 521),\n",
       "  (358, 537),\n",
       "  (358, 539),\n",
       "  (358, 545),\n",
       "  (358, 547),\n",
       "  (358, 585),\n",
       "  (358, 587),\n",
       "  (373, 387),\n",
       "  (373, 391),\n",
       "  (373, 430),\n",
       "  (373, 441),\n",
       "  (373, 481),\n",
       "  (373, 497),\n",
       "  (373, 510),\n",
       "  (373, 521),\n",
       "  (373, 537),\n",
       "  (373, 539),\n",
       "  (373, 545),\n",
       "  (373, 547),\n",
       "  (373, 585),\n",
       "  (373, 587),\n",
       "  (387, 391),\n",
       "  (387, 430),\n",
       "  (387, 441),\n",
       "  (387, 481),\n",
       "  (387, 497),\n",
       "  (387, 510),\n",
       "  (387, 521),\n",
       "  (387, 537),\n",
       "  (387, 539),\n",
       "  (387, 545),\n",
       "  (387, 547),\n",
       "  (387, 585),\n",
       "  (387, 587),\n",
       "  (391, 430),\n",
       "  (391, 441),\n",
       "  (391, 481),\n",
       "  (391, 497),\n",
       "  (391, 510),\n",
       "  (391, 521),\n",
       "  (391, 537),\n",
       "  (391, 539),\n",
       "  (391, 545),\n",
       "  (391, 547),\n",
       "  (391, 585),\n",
       "  (391, 587),\n",
       "  (430, 441),\n",
       "  (430, 481),\n",
       "  (430, 497),\n",
       "  (430, 510),\n",
       "  (430, 521),\n",
       "  (430, 537),\n",
       "  (430, 539),\n",
       "  (430, 545),\n",
       "  (430, 547),\n",
       "  (430, 585),\n",
       "  (430, 587),\n",
       "  (441, 481),\n",
       "  (441, 497),\n",
       "  (441, 510),\n",
       "  (441, 521),\n",
       "  (441, 537),\n",
       "  (441, 539),\n",
       "  (441, 545),\n",
       "  (441, 547),\n",
       "  (441, 585),\n",
       "  (441, 587),\n",
       "  (481, 497),\n",
       "  (481, 510),\n",
       "  (481, 521),\n",
       "  (481, 537),\n",
       "  (481, 539),\n",
       "  (481, 545),\n",
       "  (481, 547),\n",
       "  (481, 585),\n",
       "  (481, 587),\n",
       "  (497, 510),\n",
       "  (497, 521),\n",
       "  (497, 537),\n",
       "  (497, 539),\n",
       "  (497, 545),\n",
       "  (497, 547),\n",
       "  (497, 585),\n",
       "  (497, 587),\n",
       "  (510, 521),\n",
       "  (510, 537),\n",
       "  (510, 539),\n",
       "  (510, 545),\n",
       "  (510, 547),\n",
       "  (510, 585),\n",
       "  (510, 587),\n",
       "  (521, 537),\n",
       "  (521, 539),\n",
       "  (521, 545),\n",
       "  (521, 547),\n",
       "  (521, 585),\n",
       "  (521, 587),\n",
       "  (537, 539),\n",
       "  (537, 545),\n",
       "  (537, 547),\n",
       "  (537, 585),\n",
       "  (537, 587),\n",
       "  (539, 545),\n",
       "  (539, 547),\n",
       "  (539, 585),\n",
       "  (539, 587),\n",
       "  (545, 547),\n",
       "  (545, 585),\n",
       "  (545, 587),\n",
       "  (547, 585),\n",
       "  (547, 587),\n",
       "  (585, 587))]"
      ]
     },
     "execution_count": 19,
     "metadata": {},
     "output_type": "execute_result"
    }
   ],
   "source": [
    "useraffinity.take(1)"
   ]
  },
  {
   "cell_type": "code",
   "execution_count": 20,
   "metadata": {},
   "outputs": [],
   "source": [
    "#flatten\n",
    "useraffinity = useraffinity.flatMap(lambda xs: [(x[0], x[1]) for x in xs])"
   ]
  },
  {
   "cell_type": "code",
   "execution_count": 21,
   "metadata": {},
   "outputs": [
    {
     "data": {
      "text/plain": [
       "[(23, 38), (23, 133), (23, 148), (23, 229), (23, 280)]"
      ]
     },
     "execution_count": 21,
     "metadata": {},
     "output_type": "execute_result"
    }
   ],
   "source": [
    "useraffinity.take(5)"
   ]
  },
  {
   "cell_type": "markdown",
   "metadata": {},
   "source": [
    "### Find count of targetuser-user pairs"
   ]
  },
  {
   "cell_type": "code",
   "execution_count": 22,
   "metadata": {},
   "outputs": [],
   "source": [
    "#ensure that the tuples are in (smallernumber, largernumber) form and count the pair\n",
    "useraffinity = useraffinity.map(lambda x: ((x[1], x[0]), 1) if x[0]>x[1] else (x,1))"
   ]
  },
  {
   "cell_type": "code",
   "execution_count": 23,
   "metadata": {},
   "outputs": [],
   "source": [
    "#find the count of each tuple pair\n",
    "useraffinity = useraffinity.reduceByKey(lambda x,y: x+y)"
   ]
  },
  {
   "cell_type": "code",
   "execution_count": 24,
   "metadata": {},
   "outputs": [
    {
     "data": {
      "text/plain": [
       "[((23, 387), 45),\n",
       " ((23, 391), 15),\n",
       " ((23, 539), 1),\n",
       " ((23, 547), 131),\n",
       " ((23, 587), 78)]"
      ]
     },
     "execution_count": 24,
     "metadata": {},
     "output_type": "execute_result"
    }
   ],
   "source": [
    "useraffinity.take(5)"
   ]
  },
  {
   "cell_type": "markdown",
   "metadata": {},
   "source": [
    "### Create Recommendation Engine"
   ]
  },
  {
   "cell_type": "markdown",
   "metadata": {},
   "source": [
    "Accepts a user id and returns the top 5 movie recommendations for that user"
   ]
  },
  {
   "cell_type": "code",
   "execution_count": 25,
   "metadata": {},
   "outputs": [],
   "source": [
    "def recommendation(userid):\n",
    "    #identify targetuser in useraffinity\n",
    "    specificaffinity = useraffinity.filter(lambda x: userid in x[0])\n",
    "    \n",
    "    #return the user with the highest affinity\n",
    "    ((user1,user2), _) = specificaffinity.reduce(lambda x,y: x if x[1]>=y[1] else y)\n",
    "    if userid == user1:\n",
    "        affinityuser = user2\n",
    "    elif userid == user2:\n",
    "        affinityuser = user1\n",
    "    affinityuserratings = ratingsRDD.filter(lambda x: x[0] == affinityuser)\n",
    "    \n",
    "    #find the top5 movies the affinity user rated\n",
    "    top5 = affinityuserratings.top(5, lambda x: (x[2], x[4]))\n",
    "    movienames = moviesRDD.filter(lambda x: x[0] in map(lambda x: x[1], top5)).map(lambda x: x[1] if \"^\" not in x[1] else x[1].replace(\"^\",\",\")).collect()\n",
    "    recommendation_greeting = \"We recommend that user \" + str(userid) + \" watches:\\n\"\n",
    "    for i in range(len(movienames)):\n",
    "        recommendation_greeting += str(i+1)+\") \" + movienames[i] + \"\\n\"\n",
    "    print(recommendation_greeting)"
   ]
  },
  {
   "cell_type": "code",
   "execution_count": 26,
   "metadata": {},
   "outputs": [
    {
     "name": "stdout",
     "output_type": "stream",
     "text": [
      "We recommend that user 1 watches:\n",
      "1) Usual Suspects, The (1995)\n",
      "2) Maltese Falcon, The (1941)\n",
      "3) Paths of Glory (1957)\n",
      "4) Roger & Me (1989)\n",
      "5) Mister Roberts (1955)\n",
      "\n"
     ]
    }
   ],
   "source": [
    "recommendation(1)"
   ]
  },
  {
   "cell_type": "markdown",
   "metadata": {},
   "source": [
    "### Developer Notes\n",
    "\n",
    "#### Compare target user to one other user or an aggregate many users  \n",
    "    1) find the most similar user or aggregate user\n",
    "    2) identify that user's highly rated movies\n",
    "#### Metrics to judge similarity\n",
    "        - based on aggregrate rating of a movie\n",
    "        - based on what the rating\n",
    "        - based on what genres they watched the most of\n",
    "        - based on how frequently they rate movies\n",
    "        - something with tags on the movie? Sentiment analysis?\n",
    "        - scrape data from imdb for a critic's review\n",
    "        - timestamps?\n",
    "#### Misc  \n",
    "    - User liked a movie = T/F if their rating > aggregate movie rating"
   ]
  }
 ],
 "metadata": {
  "kernelspec": {
   "display_name": "Python 3",
   "language": "python",
   "name": "python3"
  },
  "language_info": {
   "codemirror_mode": {
    "name": "ipython",
    "version": 3
   },
   "file_extension": ".py",
   "mimetype": "text/x-python",
   "name": "python",
   "nbconvert_exporter": "python",
   "pygments_lexer": "ipython3",
   "version": "3.6.5"
  }
 },
 "nbformat": 4,
 "nbformat_minor": 2
}
